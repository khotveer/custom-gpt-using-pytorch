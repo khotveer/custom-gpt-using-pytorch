{
 "cells": [
  {
   "cell_type": "markdown",
   "id": "af68762d-d942-4295-ab1f-637122f17529",
   "metadata": {},
   "source": [
    "### set seed "
   ]
  },
  {
   "cell_type": "code",
   "execution_count": 1,
   "id": "4c1accbc-940e-43b3-b3ee-500c808c916f",
   "metadata": {},
   "outputs": [],
   "source": [
    "import random\n",
    "import numpy as np\n",
    "def set_seed(seed):\n",
    "    random.seed(seed)\n",
    "    np.random.seed(seed)\n",
    "    torch.manual_seed(seed)\n",
    "    torch.cuda.manual_seed_all(seed)"
   ]
  },
  {
   "cell_type": "code",
   "execution_count": 2,
   "id": "9a6e8c2d-4dd8-4ba5-a7df-f8a51585ffce",
   "metadata": {},
   "outputs": [],
   "source": [
    "from src.model import *\n",
    "from src.tokenizer import *\n",
    "from src.utils import *"
   ]
  },
  {
   "cell_type": "code",
   "execution_count": 3,
   "id": "cee4b517-0ecc-415f-a6ab-568d20156c59",
   "metadata": {},
   "outputs": [],
   "source": [
    "config = {\n",
    "    \"n_layer\": 8,\n",
    "    \"n_head\": 16,\n",
    "    \"n_embd\": 512,\n",
    "\n",
    "    \n",
    "    \"vocab_size\" : None,\n",
    "    \"block_size\" : None,\n",
    "\n",
    "    \n",
    "    \"embd_pdrop\" : 0.1,\n",
    "    \"resid_pdrop\" : 0.1,\n",
    "    \"attn_pdrop\" : 0.1,\n",
    "\n",
    "    \"device\" : 'cuda' if torch.cuda.is_available() else 'cpu',\n",
    "    \"num_workers\" : 3,\n",
    "        \n",
    "    # optimizer parameters\n",
    "    \"max_iters\" : None,\n",
    "    \"batch_size\" : 64,\n",
    "    \"learning_rate\" : 3e-4,\n",
    "    \"betas\" : (0.9, 0.95),\n",
    "    \"weight_decay\" : 0.1, # only applied on matmul weights\n",
    "    \"grad_norm_clip\" : 1.0\n",
    "}"
   ]
  },
  {
   "cell_type": "code",
   "execution_count": 4,
   "id": "747e9b81-8a9c-459f-a48c-6f776f20c92d",
   "metadata": {},
   "outputs": [],
   "source": [
    "set_seed(42)"
   ]
  },
  {
   "cell_type": "code",
   "execution_count": 5,
   "id": "a608b06a-3150-4da9-b61e-179adad734f0",
   "metadata": {},
   "outputs": [
    {
     "data": {
      "text/plain": [
       "'cpu'"
      ]
     },
     "execution_count": 5,
     "metadata": {},
     "output_type": "execute_result"
    }
   ],
   "source": [
    "config['device']"
   ]
  },
  {
   "cell_type": "code",
   "execution_count": 6,
   "id": "1e07e718-818b-4bca-af6c-ac5f883e1bdf",
   "metadata": {},
   "outputs": [],
   "source": [
    "with open(\"./data/shakespeare.txt\", \n",
    "          \"r\", encoding = 'utf-8') as f:\n",
    "    text  = f.read()\n",
    "\n",
    "text = text.lower()"
   ]
  },
  {
   "cell_type": "code",
   "execution_count": 7,
   "id": "31fd12d7-b369-4bd8-b331-199096d6a689",
   "metadata": {},
   "outputs": [],
   "source": [
    "bpe = BPE()\n",
    "encoder = bpe.encoder\n",
    "decoder = bpe.decoder\n",
    "vocab_size = bpe.vocab_size"
   ]
  },
  {
   "cell_type": "code",
   "execution_count": 8,
   "id": "b6e49de2-d594-4980-8783-8e50db2bc7b9",
   "metadata": {},
   "outputs": [],
   "source": [
    "e = bpe.get_the_encoder()"
   ]
  },
  {
   "cell_type": "code",
   "execution_count": 9,
   "id": "82070798-6efc-45ba-88de-be74eaeed98d",
   "metadata": {},
   "outputs": [],
   "source": [
    "encoded_dataset = encoder(text)"
   ]
  },
  {
   "cell_type": "code",
   "execution_count": 10,
   "id": "35595644-246b-4a09-9ae7-c082282dbf8a",
   "metadata": {},
   "outputs": [],
   "source": [
    "block_size = 128\n",
    "batch_size = config['batch_size']\n",
    "dataset = ShakespeareDataset(encoded_dataset, block_size)"
   ]
  },
  {
   "cell_type": "code",
   "execution_count": 11,
   "id": "edbb4e01-2659-4261-a17c-63918da9a951",
   "metadata": {},
   "outputs": [],
   "source": [
    "from torch.utils.data import random_split"
   ]
  },
  {
   "cell_type": "code",
   "execution_count": 12,
   "id": "668935c8-dc00-47f3-8fe5-048888931c5d",
   "metadata": {},
   "outputs": [],
   "source": [
    "# Calculate split sizes (e.g., 90% train, 10% test)\n",
    "train_size = int(0.9 * len(dataset))\n",
    "test_size = len(dataset) - train_size"
   ]
  },
  {
   "cell_type": "code",
   "execution_count": 13,
   "id": "e9fe84f8-3e68-426b-b1c9-a14fae51686e",
   "metadata": {},
   "outputs": [],
   "source": [
    "# Split the dataset\n",
    "train_dataset, test_dataset = random_split(dataset, [train_size, test_size])"
   ]
  },
  {
   "cell_type": "code",
   "execution_count": 14,
   "id": "4a203298-7fb1-4b47-8528-599a9d2945e5",
   "metadata": {},
   "outputs": [],
   "source": [
    "config['vocab_size'] = vocab_size\n",
    "config['block_size'] = block_size"
   ]
  },
  {
   "cell_type": "code",
   "execution_count": null,
   "id": "6383e0ae-8cc4-4dde-b804-0c960cba0dcf",
   "metadata": {},
   "outputs": [],
   "source": []
  },
  {
   "cell_type": "markdown",
   "id": "23a3aedf-939c-4ffb-a01e-61d227481658",
   "metadata": {},
   "source": [
    "#### Model Initialization"
   ]
  },
  {
   "cell_type": "code",
   "execution_count": 15,
   "id": "657d8d40-dfa7-4a8a-a63a-83373755b9c2",
   "metadata": {},
   "outputs": [
    {
     "name": "stdout",
     "output_type": "stream",
     "text": [
      "number of parameters: 51.02M\n"
     ]
    }
   ],
   "source": [
    "model = GPT(config)"
   ]
  },
  {
   "cell_type": "markdown",
   "id": "60b03fea-45a6-4f27-8e37-75cf7e95336c",
   "metadata": {},
   "source": [
    "### Model Training"
   ]
  },
  {
   "cell_type": "code",
   "execution_count": 16,
   "id": "970a9d42-57f0-4041-9d30-5a5835b36837",
   "metadata": {},
   "outputs": [
    {
     "name": "stdout",
     "output_type": "stream",
     "text": [
      "running on device cpu\n"
     ]
    }
   ],
   "source": [
    "trainer = Trainer(config, model, train_dataset, test_dataset)"
   ]
  },
  {
   "cell_type": "code",
   "execution_count": 18,
   "id": "af6fcae7-3d6d-4bb9-9dcb-e87fce3e577e",
   "metadata": {},
   "outputs": [],
   "source": [
    "trainer.run()"
   ]
  },
  {
   "cell_type": "code",
   "execution_count": null,
   "id": "ac7f5404-06ee-4cd2-888d-f280c0ca80c8",
   "metadata": {},
   "outputs": [],
   "source": []
  },
  {
   "cell_type": "markdown",
   "id": "f74efe1c-29fd-4774-97a2-cbb93fe6c6d6",
   "metadata": {},
   "source": [
    "#### Save Trained Model"
   ]
  },
  {
   "cell_type": "code",
   "execution_count": 26,
   "id": "58e78a60-2f11-493b-ba50-d13c82f0bce0",
   "metadata": {
    "execution": {
     "iopub.execute_input": "2025-04-26T23:18:49.265070Z",
     "iopub.status.busy": "2025-04-26T23:18:49.264791Z",
     "iopub.status.idle": "2025-04-26T23:18:49.824107Z",
     "shell.execute_reply": "2025-04-26T23:18:49.823485Z",
     "shell.execute_reply.started": "2025-04-26T23:18:49.265049Z"
    }
   },
   "outputs": [],
   "source": [
    "torch.save(model.state_dict(), './saved_models/model_shakespeare_new_v5_latest.pth')"
   ]
  },
  {
   "cell_type": "code",
   "execution_count": 27,
   "id": "5aa6f143-e027-4578-8360-83ca03c3b214",
   "metadata": {
    "execution": {
     "iopub.execute_input": "2025-04-26T23:18:57.803471Z",
     "iopub.status.busy": "2025-04-26T23:18:57.803239Z",
     "iopub.status.idle": "2025-04-26T23:18:57.861382Z",
     "shell.execute_reply": "2025-04-26T23:18:57.860623Z",
     "shell.execute_reply.started": "2025-04-26T23:18:57.803455Z"
    }
   },
   "outputs": [],
   "source": [
    "import pickle\n",
    "\n",
    "# Let's say your encoder/tokenizer is in a variable called `encoder`\n",
    "with open(\"./saved_models/encoder_shakespeare_v5.pkl\", \"wb\") as f:\n",
    "    pickle.dump(bpe, f)"
   ]
  },
  {
   "cell_type": "code",
   "execution_count": null,
   "id": "c5467fff-e655-470b-9b84-9dedb2b809b3",
   "metadata": {},
   "outputs": [],
   "source": []
  },
  {
   "cell_type": "code",
   "execution_count": null,
   "id": "b64d562a-5363-471a-a6f6-e88a1aa20b2a",
   "metadata": {},
   "outputs": [],
   "source": []
  }
 ],
 "metadata": {
  "kaggle": {
   "accelerator": "none",
   "dataSources": [
    {
     "datasetId": 7134321,
     "sourceId": 11391908,
     "sourceType": "datasetVersion"
    },
    {
     "datasetId": 7231602,
     "sourceId": 11529731,
     "sourceType": "datasetVersion"
    }
   ],
   "dockerImageVersionId": 31011,
   "isGpuEnabled": false,
   "isInternetEnabled": true,
   "language": "python",
   "sourceType": "notebook"
  },
  "kernelspec": {
   "display_name": "Python 3 (ipykernel)",
   "language": "python",
   "name": "python3"
  },
  "language_info": {
   "codemirror_mode": {
    "name": "ipython",
    "version": 3
   },
   "file_extension": ".py",
   "mimetype": "text/x-python",
   "name": "python",
   "nbconvert_exporter": "python",
   "pygments_lexer": "ipython3",
   "version": "3.11.7"
  }
 },
 "nbformat": 4,
 "nbformat_minor": 5
}
